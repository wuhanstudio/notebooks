{
 "cells": [
  {
   "cell_type": "markdown",
   "metadata": {},
   "source": [
    "# Interpretable ML - Linear Regression\n",
    "> Demo for Interpretable ML - Linear Regression\n",
    "\n",
    "- toc:true\n",
    "- branch: master\n",
    "- badges: true\n",
    "- comments: true\n",
    "- author: Han Wu\n",
    "- categories: [jupyter]"
   ]
  },
  {
   "cell_type": "code",
   "execution_count": 215,
   "metadata": {},
   "outputs": [],
   "source": [
    "import pandas as pd"
   ]
  },
  {
   "cell_type": "code",
   "execution_count": 216,
   "metadata": {},
   "outputs": [],
   "source": [
    "import numpy as np\n",
    "np.set_printoptions(suppress=True)"
   ]
  },
  {
   "cell_type": "markdown",
   "metadata": {},
   "source": [
    "# Read Dataset"
   ]
  },
  {
   "cell_type": "code",
   "execution_count": 217,
   "metadata": {},
   "outputs": [],
   "source": [
    "bike_day = pd.read_csv(\"dataset/bike/day.csv\")"
   ]
  },
  {
   "cell_type": "code",
   "execution_count": 218,
   "metadata": {},
   "outputs": [
    {
     "data": {
      "text/html": [
       "<div>\n",
       "<style scoped>\n",
       "    .dataframe tbody tr th:only-of-type {\n",
       "        vertical-align: middle;\n",
       "    }\n",
       "\n",
       "    .dataframe tbody tr th {\n",
       "        vertical-align: top;\n",
       "    }\n",
       "\n",
       "    .dataframe thead th {\n",
       "        text-align: right;\n",
       "    }\n",
       "</style>\n",
       "<table border=\"1\" class=\"dataframe\">\n",
       "  <thead>\n",
       "    <tr style=\"text-align: right;\">\n",
       "      <th></th>\n",
       "      <th>instant</th>\n",
       "      <th>dteday</th>\n",
       "      <th>season</th>\n",
       "      <th>yr</th>\n",
       "      <th>mnth</th>\n",
       "      <th>holiday</th>\n",
       "      <th>weekday</th>\n",
       "      <th>workingday</th>\n",
       "      <th>weathersit</th>\n",
       "      <th>temp</th>\n",
       "      <th>atemp</th>\n",
       "      <th>hum</th>\n",
       "      <th>windspeed</th>\n",
       "      <th>casual</th>\n",
       "      <th>registered</th>\n",
       "      <th>cnt</th>\n",
       "    </tr>\n",
       "  </thead>\n",
       "  <tbody>\n",
       "    <tr>\n",
       "      <th>0</th>\n",
       "      <td>1</td>\n",
       "      <td>2011-01-01</td>\n",
       "      <td>1</td>\n",
       "      <td>0</td>\n",
       "      <td>1</td>\n",
       "      <td>0</td>\n",
       "      <td>6</td>\n",
       "      <td>0</td>\n",
       "      <td>2</td>\n",
       "      <td>0.344167</td>\n",
       "      <td>0.363625</td>\n",
       "      <td>0.805833</td>\n",
       "      <td>0.160446</td>\n",
       "      <td>331</td>\n",
       "      <td>654</td>\n",
       "      <td>985</td>\n",
       "    </tr>\n",
       "    <tr>\n",
       "      <th>1</th>\n",
       "      <td>2</td>\n",
       "      <td>2011-01-02</td>\n",
       "      <td>1</td>\n",
       "      <td>0</td>\n",
       "      <td>1</td>\n",
       "      <td>0</td>\n",
       "      <td>0</td>\n",
       "      <td>0</td>\n",
       "      <td>2</td>\n",
       "      <td>0.363478</td>\n",
       "      <td>0.353739</td>\n",
       "      <td>0.696087</td>\n",
       "      <td>0.248539</td>\n",
       "      <td>131</td>\n",
       "      <td>670</td>\n",
       "      <td>801</td>\n",
       "    </tr>\n",
       "    <tr>\n",
       "      <th>2</th>\n",
       "      <td>3</td>\n",
       "      <td>2011-01-03</td>\n",
       "      <td>1</td>\n",
       "      <td>0</td>\n",
       "      <td>1</td>\n",
       "      <td>0</td>\n",
       "      <td>1</td>\n",
       "      <td>1</td>\n",
       "      <td>1</td>\n",
       "      <td>0.196364</td>\n",
       "      <td>0.189405</td>\n",
       "      <td>0.437273</td>\n",
       "      <td>0.248309</td>\n",
       "      <td>120</td>\n",
       "      <td>1229</td>\n",
       "      <td>1349</td>\n",
       "    </tr>\n",
       "    <tr>\n",
       "      <th>3</th>\n",
       "      <td>4</td>\n",
       "      <td>2011-01-04</td>\n",
       "      <td>1</td>\n",
       "      <td>0</td>\n",
       "      <td>1</td>\n",
       "      <td>0</td>\n",
       "      <td>2</td>\n",
       "      <td>1</td>\n",
       "      <td>1</td>\n",
       "      <td>0.200000</td>\n",
       "      <td>0.212122</td>\n",
       "      <td>0.590435</td>\n",
       "      <td>0.160296</td>\n",
       "      <td>108</td>\n",
       "      <td>1454</td>\n",
       "      <td>1562</td>\n",
       "    </tr>\n",
       "    <tr>\n",
       "      <th>4</th>\n",
       "      <td>5</td>\n",
       "      <td>2011-01-05</td>\n",
       "      <td>1</td>\n",
       "      <td>0</td>\n",
       "      <td>1</td>\n",
       "      <td>0</td>\n",
       "      <td>3</td>\n",
       "      <td>1</td>\n",
       "      <td>1</td>\n",
       "      <td>0.226957</td>\n",
       "      <td>0.229270</td>\n",
       "      <td>0.436957</td>\n",
       "      <td>0.186900</td>\n",
       "      <td>82</td>\n",
       "      <td>1518</td>\n",
       "      <td>1600</td>\n",
       "    </tr>\n",
       "  </tbody>\n",
       "</table>\n",
       "</div>"
      ],
      "text/plain": [
       "   instant      dteday  season  yr  mnth  holiday  weekday  workingday  \\\n",
       "0        1  2011-01-01       1   0     1        0        6           0   \n",
       "1        2  2011-01-02       1   0     1        0        0           0   \n",
       "2        3  2011-01-03       1   0     1        0        1           1   \n",
       "3        4  2011-01-04       1   0     1        0        2           1   \n",
       "4        5  2011-01-05       1   0     1        0        3           1   \n",
       "\n",
       "   weathersit      temp     atemp       hum  windspeed  casual  registered  \\\n",
       "0           2  0.344167  0.363625  0.805833   0.160446     331         654   \n",
       "1           2  0.363478  0.353739  0.696087   0.248539     131         670   \n",
       "2           1  0.196364  0.189405  0.437273   0.248309     120        1229   \n",
       "3           1  0.200000  0.212122  0.590435   0.160296     108        1454   \n",
       "4           1  0.226957  0.229270  0.436957   0.186900      82        1518   \n",
       "\n",
       "    cnt  \n",
       "0   985  \n",
       "1   801  \n",
       "2  1349  \n",
       "3  1562  \n",
       "4  1600  "
      ]
     },
     "execution_count": 218,
     "metadata": {},
     "output_type": "execute_result"
    }
   ],
   "source": [
    "bike_day.head()"
   ]
  },
  {
   "cell_type": "markdown",
   "metadata": {},
   "source": [
    "# Feature Engineering"
   ]
  },
  {
   "cell_type": "markdown",
   "metadata": {},
   "source": [
    "### Numerical Features"
   ]
  },
  {
   "cell_type": "code",
   "execution_count": 219,
   "metadata": {},
   "outputs": [],
   "source": [
    "bike_day.temp = bike_day.temp * (39 - (-8)) + (-8)\n",
    "bike_day.atemp = bike_day.atemp * (50 - (16)) + (16)\n",
    "bike_day.windspeed = bike_day.windspeed * 67\n",
    "bike_day.hum = bike_day.hum * 100"
   ]
  },
  {
   "cell_type": "markdown",
   "metadata": {},
   "source": [
    "### Datetime"
   ]
  },
  {
   "cell_type": "code",
   "execution_count": 220,
   "metadata": {},
   "outputs": [],
   "source": [
    "bike_start_day = pd.to_datetime('2011-01-01')\n",
    "bike_day['dteday'] = pd.to_datetime(bike_day['dteday'])\n",
    "bike_day['days_since_2011'] = (bike_day.dteday - bike_start_day).dt.days"
   ]
  },
  {
   "cell_type": "code",
   "execution_count": 221,
   "metadata": {},
   "outputs": [],
   "source": [
    "selected_features = [\"temp\", \"atemp\", \"hum\", \"windspeed\", \"days_since_2011\"]\n",
    "X = bike_day[selected_features]\n",
    "y = bike_day.cnt"
   ]
  },
  {
   "cell_type": "markdown",
   "metadata": {},
   "source": [
    "### Categorical Features"
   ]
  },
  {
   "cell_type": "markdown",
   "metadata": {},
   "source": [
    "Year"
   ]
  },
  {
   "cell_type": "code",
   "execution_count": 222,
   "metadata": {},
   "outputs": [
    {
     "name": "stderr",
     "output_type": "stream",
     "text": [
      "<ipython-input-222-fa42af29cf76>:1: SettingWithCopyWarning: \n",
      "A value is trying to be set on a copy of a slice from a DataFrame\n",
      "\n",
      "See the caveats in the documentation: https://pandas.pydata.org/pandas-docs/stable/user_guide/indexing.html#returning-a-view-versus-a-copy\n",
      "  bike_day.yr[bike_day.loc[:, 'yr'] == 0] = '2011'\n"
     ]
    }
   ],
   "source": [
    "bike_day.yr[bike_day.loc[:, 'yr'] == 0] = '2011'\n",
    "bike_day.yr[bike_day.loc[:, 'yr'] == 1] = '2012'"
   ]
  },
  {
   "cell_type": "code",
   "execution_count": 223,
   "metadata": {},
   "outputs": [],
   "source": [
    "X = X.join(pd.get_dummies(bike_day.yr))"
   ]
  },
  {
   "cell_type": "markdown",
   "metadata": {},
   "source": [
    "Season"
   ]
  },
  {
   "cell_type": "code",
   "execution_count": 224,
   "metadata": {},
   "outputs": [
    {
     "name": "stderr",
     "output_type": "stream",
     "text": [
      "<ipython-input-224-6a2d6c4210e2>:1: SettingWithCopyWarning: \n",
      "A value is trying to be set on a copy of a slice from a DataFrame\n",
      "\n",
      "See the caveats in the documentation: https://pandas.pydata.org/pandas-docs/stable/user_guide/indexing.html#returning-a-view-versus-a-copy\n",
      "  bike_day.season[bike_day.season == 1] = 'SPRING'\n"
     ]
    }
   ],
   "source": [
    "bike_day.season[bike_day.season == 1] = 'SPRING'\n",
    "bike_day.season[bike_day.season == 2] = 'SUMMER' \n",
    "bike_day.season[bike_day.season == 3] = 'FALL' \n",
    "bike_day.season[bike_day.season == 4] = 'WINTER' "
   ]
  },
  {
   "cell_type": "code",
   "execution_count": 225,
   "metadata": {},
   "outputs": [],
   "source": [
    "X = X.join(pd.get_dummies(bike_day.season))"
   ]
  },
  {
   "cell_type": "markdown",
   "metadata": {},
   "source": [
    "Weather"
   ]
  },
  {
   "cell_type": "code",
   "execution_count": 226,
   "metadata": {
    "scrolled": true
   },
   "outputs": [
    {
     "name": "stderr",
     "output_type": "stream",
     "text": [
      "<ipython-input-226-3f30ca62512e>:1: SettingWithCopyWarning: \n",
      "A value is trying to be set on a copy of a slice from a DataFrame\n",
      "\n",
      "See the caveats in the documentation: https://pandas.pydata.org/pandas-docs/stable/user_guide/indexing.html#returning-a-view-versus-a-copy\n",
      "  bike_day.weathersit[bike_day.weathersit == 1] = 'GOOD'\n",
      "<ipython-input-226-3f30ca62512e>:2: SettingWithCopyWarning: \n",
      "A value is trying to be set on a copy of a slice from a DataFrame\n",
      "\n",
      "See the caveats in the documentation: https://pandas.pydata.org/pandas-docs/stable/user_guide/indexing.html#returning-a-view-versus-a-copy\n",
      "  bike_day.weathersit[bike_day.weathersit == 2] = 'MISTY'\n",
      "<ipython-input-226-3f30ca62512e>:3: SettingWithCopyWarning: \n",
      "A value is trying to be set on a copy of a slice from a DataFrame\n",
      "\n",
      "See the caveats in the documentation: https://pandas.pydata.org/pandas-docs/stable/user_guide/indexing.html#returning-a-view-versus-a-copy\n",
      "  bike_day.weathersit[bike_day.weathersit == 3] = 'RAIN/SNOW/STORM'\n"
     ]
    }
   ],
   "source": [
    "bike_day.weathersit[bike_day.weathersit == 1] = 'GOOD'\n",
    "bike_day.weathersit[bike_day.weathersit == 2] = 'MISTY'\n",
    "bike_day.weathersit[bike_day.weathersit == 3] = 'RAIN/SNOW/STORM'"
   ]
  },
  {
   "cell_type": "code",
   "execution_count": 227,
   "metadata": {},
   "outputs": [],
   "source": [
    "X = X.join(pd.get_dummies(bike_day.weathersit))"
   ]
  },
  {
   "cell_type": "markdown",
   "metadata": {},
   "source": [
    "Month"
   ]
  },
  {
   "cell_type": "code",
   "execution_count": 228,
   "metadata": {
    "scrolled": true
   },
   "outputs": [
    {
     "name": "stderr",
     "output_type": "stream",
     "text": [
      "<ipython-input-228-c8d46e89c532>:1: SettingWithCopyWarning: \n",
      "A value is trying to be set on a copy of a slice from a DataFrame\n",
      "\n",
      "See the caveats in the documentation: https://pandas.pydata.org/pandas-docs/stable/user_guide/indexing.html#returning-a-view-versus-a-copy\n",
      "  bike_day.mnth[bike_day.mnth == 1] = 'JAN'\n"
     ]
    }
   ],
   "source": [
    "bike_day.mnth[bike_day.mnth == 1] = 'JAN'\n",
    "bike_day.mnth[bike_day.mnth == 2] = 'FEB'\n",
    "bike_day.mnth[bike_day.mnth == 3] = 'MAR'\n",
    "bike_day.mnth[bike_day.mnth == 4] = 'APR'\n",
    "bike_day.mnth[bike_day.mnth == 5] = 'MAY'\n",
    "bike_day.mnth[bike_day.mnth == 6] = 'JUN'\n",
    "bike_day.mnth[bike_day.mnth == 7] = 'JUL'\n",
    "bike_day.mnth[bike_day.mnth == 8] = 'AUG'\n",
    "bike_day.mnth[bike_day.mnth == 9] = 'SEP'\n",
    "bike_day.mnth[bike_day.mnth == 10] = 'OCT'\n",
    "bike_day.mnth[bike_day.mnth == 11] = 'NOV'\n",
    "bike_day.mnth[bike_day.mnth == 12] = 'DEC'"
   ]
  },
  {
   "cell_type": "code",
   "execution_count": 229,
   "metadata": {},
   "outputs": [],
   "source": [
    "X = X.join(pd.get_dummies(bike_day.mnth))"
   ]
  },
  {
   "cell_type": "markdown",
   "metadata": {},
   "source": [
    "# Train test split"
   ]
  },
  {
   "cell_type": "code",
   "execution_count": 230,
   "metadata": {},
   "outputs": [],
   "source": [
    "from sklearn.model_selection import train_test_split"
   ]
  },
  {
   "cell_type": "code",
   "execution_count": 231,
   "metadata": {},
   "outputs": [],
   "source": [
    "X_train, X_test, y_train, y_test = train_test_split(X.to_numpy(), y.to_numpy(), train_size = 0.7, random_state = 0)"
   ]
  },
  {
   "cell_type": "markdown",
   "metadata": {},
   "source": [
    "# Training"
   ]
  },
  {
   "cell_type": "code",
   "execution_count": 232,
   "metadata": {},
   "outputs": [],
   "source": [
    "from sklearn.linear_model import Lasso\n",
    "from sklearn.linear_model import Ridge"
   ]
  },
  {
   "cell_type": "markdown",
   "metadata": {},
   "source": [
    "Ridge"
   ]
  },
  {
   "cell_type": "code",
   "execution_count": 233,
   "metadata": {},
   "outputs": [],
   "source": [
    "rr = Ridge()"
   ]
  },
  {
   "cell_type": "code",
   "execution_count": 234,
   "metadata": {},
   "outputs": [
    {
     "data": {
      "text/plain": [
       "Ridge()"
      ]
     },
     "execution_count": 234,
     "metadata": {},
     "output_type": "execute_result"
    }
   ],
   "source": [
    "rr.fit(X_train, y_train)"
   ]
  },
  {
   "cell_type": "markdown",
   "metadata": {},
   "source": [
    "Lasso"
   ]
  },
  {
   "cell_type": "code",
   "execution_count": 235,
   "metadata": {},
   "outputs": [],
   "source": [
    "lr = Lasso(normalize=True)"
   ]
  },
  {
   "cell_type": "code",
   "execution_count": 236,
   "metadata": {},
   "outputs": [
    {
     "data": {
      "text/plain": [
       "Lasso(normalize=True)"
      ]
     },
     "execution_count": 236,
     "metadata": {},
     "output_type": "execute_result"
    }
   ],
   "source": [
    "lr.fit(X_train, y_train)"
   ]
  },
  {
   "cell_type": "markdown",
   "metadata": {},
   "source": [
    "# Metrics"
   ]
  },
  {
   "cell_type": "code",
   "execution_count": 237,
   "metadata": {},
   "outputs": [],
   "source": [
    "from sklearn.metrics import mean_squared_error"
   ]
  },
  {
   "cell_type": "markdown",
   "metadata": {},
   "source": [
    "Ridge"
   ]
  },
  {
   "cell_type": "code",
   "execution_count": 238,
   "metadata": {},
   "outputs": [],
   "source": [
    "y_pred_r = rr.predict(X_test)"
   ]
  },
  {
   "cell_type": "code",
   "execution_count": 239,
   "metadata": {},
   "outputs": [
    {
     "data": {
      "text/plain": [
       "650885.6073230483"
      ]
     },
     "execution_count": 239,
     "metadata": {},
     "output_type": "execute_result"
    }
   ],
   "source": [
    "mean_squared_error(y_test, y_pred_r)"
   ]
  },
  {
   "cell_type": "code",
   "execution_count": 240,
   "metadata": {},
   "outputs": [
    {
     "data": {
      "text/plain": [
       "Index(['temp', 'atemp', 'hum', 'windspeed', 'days_since_2011', '2011', '2012',\n",
       "       'FALL', 'SPRING', 'SUMMER', 'WINTER', 'GOOD', 'MISTY',\n",
       "       'RAIN/SNOW/STORM', 'APR', 'AUG', 'DEC', 'FEB', 'JAN', 'JUL', 'JUN',\n",
       "       'MAR', 'MAY', 'NOV', 'OCT', 'SEP'],\n",
       "      dtype='object')"
      ]
     },
     "execution_count": 240,
     "metadata": {},
     "output_type": "execute_result"
    }
   ],
   "source": [
    "X.columns"
   ]
  },
  {
   "cell_type": "code",
   "execution_count": 241,
   "metadata": {},
   "outputs": [
    {
     "data": {
      "text/plain": [
       "array([  88.56269292,   26.35233461,  -20.35055709,  -50.15770336,\n",
       "          0.11737953, -931.02767102,  931.02767102,  129.9776705 ,\n",
       "       -858.75619916,   52.74840848,  676.03012019,  633.50374363,\n",
       "        356.83084875, -990.33459238,   77.61987747, -103.53517043,\n",
       "       -229.15948447,  -66.61631165, -164.93492354, -531.25800384,\n",
       "       -128.86883146,  332.58997771,  377.06743755, -389.4554859 ,\n",
       "        245.35738634,  581.19353222])"
      ]
     },
     "execution_count": 241,
     "metadata": {},
     "output_type": "execute_result"
    }
   ],
   "source": [
    "rr.coef_"
   ]
  },
  {
   "cell_type": "code",
   "execution_count": 242,
   "metadata": {},
   "outputs": [
    {
     "data": {
      "text/plain": [
       "3670.8640712920055"
      ]
     },
     "execution_count": 242,
     "metadata": {},
     "output_type": "execute_result"
    }
   ],
   "source": [
    "rr.intercept_"
   ]
  },
  {
   "cell_type": "markdown",
   "metadata": {},
   "source": [
    "Lasso"
   ]
  },
  {
   "cell_type": "code",
   "execution_count": 243,
   "metadata": {},
   "outputs": [],
   "source": [
    "y_pred_l = lr.predict(X_test)"
   ]
  },
  {
   "cell_type": "code",
   "execution_count": 244,
   "metadata": {},
   "outputs": [
    {
     "data": {
      "text/plain": [
       "659705.342130416"
      ]
     },
     "execution_count": 244,
     "metadata": {},
     "output_type": "execute_result"
    }
   ],
   "source": [
    "mean_squared_error(y_test, y_pred_l)"
   ]
  },
  {
   "cell_type": "code",
   "execution_count": 245,
   "metadata": {},
   "outputs": [
    {
     "data": {
      "text/plain": [
       "array([   75.4720349 ,    33.18166704,   -16.06025245,   -43.72312824,\n",
       "           0.        , -1891.66068971,     0.        ,    -0.        ,\n",
       "       -1045.36798995,     0.        ,   240.19341828,   283.91219444,\n",
       "          -0.        , -1414.16952065,     0.        ,     0.        ,\n",
       "          -0.        ,    -0.        ,  -116.21917705,  -301.81734998,\n",
       "          -0.        ,   251.78401898,   273.0091002 ,   -13.95883721,\n",
       "         504.19655444,   651.96621325])"
      ]
     },
     "execution_count": 245,
     "metadata": {},
     "output_type": "execute_result"
    }
   ],
   "source": [
    "lr.coef_"
   ]
  },
  {
   "cell_type": "code",
   "execution_count": 246,
   "metadata": {},
   "outputs": [
    {
     "data": {
      "text/plain": [
       "4739.781565530179"
      ]
     },
     "execution_count": 246,
     "metadata": {},
     "output_type": "execute_result"
    }
   ],
   "source": [
    "lr.intercept_"
   ]
  },
  {
   "cell_type": "markdown",
   "metadata": {},
   "source": [
    "# Plot"
   ]
  },
  {
   "cell_type": "code",
   "execution_count": 276,
   "metadata": {},
   "outputs": [],
   "source": [
    "import altair as alt"
   ]
  },
  {
   "cell_type": "code",
   "execution_count": 277,
   "metadata": {},
   "outputs": [],
   "source": [
    "lr_pred_df = pd.DataFrame({'day': X_test[:, 4],\n",
    "                          'y_test': y_test,\n",
    "                          'y_pred': y_pred_l,\n",
    "                          })"
   ]
  },
  {
   "cell_type": "code",
   "execution_count": 278,
   "metadata": {},
   "outputs": [],
   "source": [
    "lr_pred_df = lr_pred_df.melt('day', var_name='data', value_name='value')"
   ]
  },
  {
   "cell_type": "code",
   "execution_count": 279,
   "metadata": {},
   "outputs": [
    {
     "data": {
      "text/html": [
       "\n",
       "<div id=\"altair-viz-e69854f31c7841e8a9b9545123f25556\"></div>\n",
       "<script type=\"text/javascript\">\n",
       "  (function(spec, embedOpt){\n",
       "    let outputDiv = document.currentScript.previousElementSibling;\n",
       "    if (outputDiv.id !== \"altair-viz-e69854f31c7841e8a9b9545123f25556\") {\n",
       "      outputDiv = document.getElementById(\"altair-viz-e69854f31c7841e8a9b9545123f25556\");\n",
       "    }\n",
       "    const paths = {\n",
       "      \"vega\": \"https://cdn.jsdelivr.net/npm//vega@5?noext\",\n",
       "      \"vega-lib\": \"https://cdn.jsdelivr.net/npm//vega-lib?noext\",\n",
       "      \"vega-lite\": \"https://cdn.jsdelivr.net/npm//vega-lite@4.8.1?noext\",\n",
       "      \"vega-embed\": \"https://cdn.jsdelivr.net/npm//vega-embed@6?noext\",\n",
       "    };\n",
       "\n",
       "    function loadScript(lib) {\n",
       "      return new Promise(function(resolve, reject) {\n",
       "        var s = document.createElement('script');\n",
       "        s.src = paths[lib];\n",
       "        s.async = true;\n",
       "        s.onload = () => resolve(paths[lib]);\n",
       "        s.onerror = () => reject(`Error loading script: ${paths[lib]}`);\n",
       "        document.getElementsByTagName(\"head\")[0].appendChild(s);\n",
       "      });\n",
       "    }\n",
       "\n",
       "    function showError(err) {\n",
       "      outputDiv.innerHTML = `<div class=\"error\" style=\"color:red;\">${err}</div>`;\n",
       "      throw err;\n",
       "    }\n",
       "\n",
       "    function displayChart(vegaEmbed) {\n",
       "      vegaEmbed(outputDiv, spec, embedOpt)\n",
       "        .catch(err => showError(`Javascript Error: ${err.message}<br>This usually means there's a typo in your chart specification. See the javascript console for the full traceback.`));\n",
       "    }\n",
       "\n",
       "    if(typeof define === \"function\" && define.amd) {\n",
       "      requirejs.config({paths});\n",
       "      require([\"vega-embed\"], displayChart, err => showError(`Error loading script: ${err.message}`));\n",
       "    } else if (typeof vegaEmbed === \"function\") {\n",
       "      displayChart(vegaEmbed);\n",
       "    } else {\n",
       "      loadScript(\"vega\")\n",
       "        .then(() => loadScript(\"vega-lite\"))\n",
       "        .then(() => loadScript(\"vega-embed\"))\n",
       "        .catch(showError)\n",
       "        .then(() => displayChart(vegaEmbed));\n",
       "    }\n",
       "  })({\"config\": {\"view\": {\"continuousWidth\": 400, \"continuousHeight\": 300}}, \"data\": {\"name\": \"data-39683287b4913ad0a63e7da1863a0fea\"}, \"mark\": {\"type\": \"line\", \"point\": true}, \"encoding\": {\"color\": {\"type\": \"nominal\", \"field\": \"data\"}, \"tooltip\": [{\"type\": \"nominal\", \"field\": \"data\"}, {\"type\": \"nominal\", \"field\": \"value\"}], \"x\": {\"type\": \"quantitative\", \"field\": \"day\"}, \"y\": {\"type\": \"quantitative\", \"field\": \"value\"}}, \"selection\": {\"selector009\": {\"type\": \"interval\", \"bind\": \"scales\"}}, \"width\": 800, \"$schema\": \"https://vega.github.io/schema/vega-lite/v4.8.1.json\", \"datasets\": {\"data-39683287b4913ad0a63e7da1863a0fea\": [{\"day\": 196.0, \"data\": \"y_test\", \"value\": 5923.0}, {\"day\": 187.0, \"data\": \"y_test\", \"value\": 4592.0}, {\"day\": 14.0, \"data\": \"y_test\", \"value\": 1248.0}, {\"day\": 31.0, \"data\": \"y_test\", \"value\": 1360.0}, {\"day\": 390.0, \"data\": \"y_test\", \"value\": 4075.0}, {\"day\": 319.0, \"data\": \"y_test\", \"value\": 1817.0}, {\"day\": 299.0, \"data\": \"y_test\", \"value\": 2659.0}, {\"day\": 702.0, \"data\": \"y_test\", \"value\": 6234.0}, {\"day\": 462.0, \"data\": \"y_test\", \"value\": 6857.0}, {\"day\": 27.0, \"data\": \"y_test\", \"value\": 1167.0}, {\"day\": 40.0, \"data\": \"y_test\", \"value\": 1538.0}, {\"day\": 360.0, \"data\": \"y_test\", \"value\": 1162.0}, {\"day\": 55.0, \"data\": \"y_test\", \"value\": 1461.0}, {\"day\": 157.0, \"data\": \"y_test\", \"value\": 4833.0}, {\"day\": 193.0, \"data\": \"y_test\", \"value\": 4342.0}, {\"day\": 170.0, \"data\": \"y_test\", \"value\": 4010.0}, {\"day\": 618.0, \"data\": \"y_test\", \"value\": 7525.0}, {\"day\": 679.0, \"data\": \"y_test\", \"value\": 6536.0}, {\"day\": 382.0, \"data\": \"y_test\", \"value\": 3376.0}, {\"day\": 79.0, \"data\": \"y_test\", \"value\": 2077.0}, {\"day\": 607.0, \"data\": \"y_test\", \"value\": 7713.0}, {\"day\": 728.0, \"data\": \"y_test\", \"value\": 1341.0}, {\"day\": 674.0, \"data\": \"y_test\", \"value\": 5259.0}, {\"day\": 162.0, \"data\": \"y_test\", \"value\": 4460.0}, {\"day\": 386.0, \"data\": \"y_test\", \"value\": 1977.0}, {\"day\": 596.0, \"data\": \"y_test\", \"value\": 4549.0}, {\"day\": 202.0, \"data\": \"y_test\", \"value\": 3387.0}, {\"day\": 242.0, \"data\": \"y_test\", \"value\": 5058.0}, {\"day\": 631.0, \"data\": \"y_test\", \"value\": 7907.0}, {\"day\": 518.0, \"data\": \"y_test\", \"value\": 8120.0}, {\"day\": 8.0, \"data\": \"y_test\", \"value\": 822.0}, {\"day\": 243.0, \"data\": \"y_test\", \"value\": 5115.0}, {\"day\": 647.0, \"data\": \"y_test\", \"value\": 6392.0}, {\"day\": 175.0, \"data\": \"y_test\", \"value\": 5202.0}, {\"day\": 356.0, \"data\": \"y_test\", \"value\": 2209.0}, {\"day\": 392.0, \"data\": \"y_test\", \"value\": 4023.0}, {\"day\": 572.0, \"data\": \"y_test\", \"value\": 6861.0}, {\"day\": 553.0, \"data\": \"y_test\", \"value\": 4840.0}, {\"day\": 75.0, \"data\": \"y_test\", \"value\": 2744.0}, {\"day\": 332.0, \"data\": \"y_test\", \"value\": 2914.0}, {\"day\": 476.0, \"data\": \"y_test\", \"value\": 6624.0}, {\"day\": 1.0, \"data\": \"y_test\", \"value\": 801.0}, {\"day\": 271.0, \"data\": \"y_test\", \"value\": 4839.0}, {\"day\": 419.0, \"data\": \"y_test\", \"value\": 3487.0}, {\"day\": 578.0, \"data\": \"y_test\", \"value\": 7580.0}, {\"day\": 632.0, \"data\": \"y_test\", \"value\": 7436.0}, {\"day\": 366.0, \"data\": \"y_test\", \"value\": 1951.0}, {\"day\": 247.0, \"data\": \"y_test\", \"value\": 3351.0}, {\"day\": 399.0, \"data\": \"y_test\", \"value\": 2832.0}, {\"day\": 85.0, \"data\": \"y_test\", \"value\": 1693.0}, {\"day\": 513.0, \"data\": \"y_test\", \"value\": 6043.0}, {\"day\": 569.0, \"data\": \"y_test\", \"value\": 6966.0}, {\"day\": 485.0, \"data\": \"y_test\", \"value\": 5572.0}, {\"day\": 529.0, \"data\": \"y_test\", \"value\": 7421.0}, {\"day\": 215.0, \"data\": \"y_test\", \"value\": 4576.0}, {\"day\": 330.0, \"data\": \"y_test\", \"value\": 3071.0}, {\"day\": 333.0, \"data\": \"y_test\", \"value\": 3613.0}, {\"day\": 655.0, \"data\": \"y_test\", \"value\": 7461.0}, {\"day\": 576.0, \"data\": \"y_test\", \"value\": 7105.0}, {\"day\": 369.0, \"data\": \"y_test\", \"value\": 3272.0}, {\"day\": 475.0, \"data\": \"y_test\", \"value\": 7290.0}, {\"day\": 413.0, \"data\": \"y_test\", \"value\": 4318.0}, {\"day\": 626.0, \"data\": \"y_test\", \"value\": 4073.0}, {\"day\": 623.0, \"data\": \"y_test\", \"value\": 8714.0}, {\"day\": 523.0, \"data\": \"y_test\", \"value\": 7494.0}, {\"day\": 249.0, \"data\": \"y_test\", \"value\": 1996.0}, {\"day\": 272.0, \"data\": \"y_test\", \"value\": 5202.0}, {\"day\": 432.0, \"data\": \"y_test\", \"value\": 5382.0}, {\"day\": 511.0, \"data\": \"y_test\", \"value\": 6536.0}, {\"day\": 669.0, \"data\": \"y_test\", \"value\": 5566.0}, {\"day\": 495.0, \"data\": \"y_test\", \"value\": 6572.0}, {\"day\": 557.0, \"data\": \"y_test\", \"value\": 7264.0}, {\"day\": 449.0, \"data\": \"y_test\", \"value\": 4996.0}, {\"day\": 575.0, \"data\": \"y_test\", \"value\": 6597.0}, {\"day\": 103.0, \"data\": \"y_test\", \"value\": 3267.0}, {\"day\": 703.0, \"data\": \"y_test\", \"value\": 6606.0}, {\"day\": 437.0, \"data\": \"y_test\", \"value\": 5847.0}, {\"day\": 590.0, \"data\": \"y_test\", \"value\": 6883.0}, {\"day\": 351.0, \"data\": \"y_test\", \"value\": 2431.0}, {\"day\": 729.0, \"data\": \"y_test\", \"value\": 1796.0}, {\"day\": 210.0, \"data\": \"y_test\", \"value\": 4475.0}, {\"day\": 673.0, \"data\": \"y_test\", \"value\": 5107.0}, {\"day\": 181.0, \"data\": \"y_test\", \"value\": 5362.0}, {\"day\": 50.0, \"data\": \"y_test\", \"value\": 1812.0}, {\"day\": 267.0, \"data\": \"y_test\", \"value\": 5010.0}, {\"day\": 531.0, \"data\": \"y_test\", \"value\": 7665.0}, {\"day\": 222.0, \"data\": \"y_test\", \"value\": 4792.0}, {\"day\": 487.0, \"data\": \"y_test\", \"value\": 6169.0}, {\"day\": 567.0, \"data\": \"y_test\", \"value\": 4459.0}, {\"day\": 142.0, \"data\": \"y_test\", \"value\": 4274.0}, {\"day\": 10.0, \"data\": \"y_test\", \"value\": 1263.0}, {\"day\": 68.0, \"data\": \"y_test\", \"value\": 623.0}, {\"day\": 573.0, \"data\": \"y_test\", \"value\": 6904.0}, {\"day\": 580.0, \"data\": \"y_test\", \"value\": 7175.0}, {\"day\": 499.0, \"data\": \"y_test\", \"value\": 2843.0}, {\"day\": 724.0, \"data\": \"y_test\", \"value\": 1013.0}, {\"day\": 301.0, \"data\": \"y_test\", \"value\": 627.0}, {\"day\": 579.0, \"data\": \"y_test\", \"value\": 7261.0}, {\"day\": 214.0, \"data\": \"y_test\", \"value\": 3574.0}, {\"day\": 404.0, \"data\": \"y_test\", \"value\": 3830.0}, {\"day\": 263.0, \"data\": \"y_test\", \"value\": 4352.0}, {\"day\": 482.0, \"data\": \"y_test\", \"value\": 6233.0}, {\"day\": 709.0, \"data\": \"y_test\", \"value\": 5170.0}, {\"day\": 648.0, \"data\": \"y_test\", \"value\": 7691.0}, {\"day\": 346.0, \"data\": \"y_test\", \"value\": 3523.0}, {\"day\": 211.0, \"data\": \"y_test\", \"value\": 4302.0}, {\"day\": 662.0, \"data\": \"y_test\", \"value\": 7693.0}, {\"day\": 636.0, \"data\": \"y_test\", \"value\": 7415.0}, {\"day\": 456.0, \"data\": \"y_test\", \"value\": 6041.0}, {\"day\": 354.0, \"data\": \"y_test\", \"value\": 2660.0}, {\"day\": 113.0, \"data\": \"y_test\", \"value\": 4191.0}, {\"day\": 236.0, \"data\": \"y_test\", \"value\": 3542.0}, {\"day\": 251.0, \"data\": \"y_test\", \"value\": 3544.0}, {\"day\": 49.0, \"data\": \"y_test\", \"value\": 1635.0}, {\"day\": 406.0, \"data\": \"y_test\", \"value\": 2169.0}, {\"day\": 156.0, \"data\": \"y_test\", \"value\": 4548.0}, {\"day\": 255.0, \"data\": \"y_test\", \"value\": 4763.0}, {\"day\": 122.0, \"data\": \"y_test\", \"value\": 4451.0}, {\"day\": 663.0, \"data\": \"y_test\", \"value\": 7359.0}, {\"day\": 457.0, \"data\": \"y_test\", \"value\": 5936.0}, {\"day\": 37.0, \"data\": \"y_test\", \"value\": 1712.0}, {\"day\": 172.0, \"data\": \"y_test\", \"value\": 4507.0}, {\"day\": 48.0, \"data\": \"y_test\", \"value\": 2927.0}, {\"day\": 365.0, \"data\": \"y_test\", \"value\": 2294.0}, {\"day\": 318.0, \"data\": \"y_test\", \"value\": 4195.0}, {\"day\": 268.0, \"data\": \"y_test\", \"value\": 4630.0}, {\"day\": 18.0, \"data\": \"y_test\", \"value\": 1650.0}, {\"day\": 521.0, \"data\": \"y_test\", \"value\": 7001.0}, {\"day\": 415.0, \"data\": \"y_test\", \"value\": 3129.0}, {\"day\": 76.0, \"data\": \"y_test\", \"value\": 3239.0}, {\"day\": 64.0, \"data\": \"y_test\", \"value\": 605.0}, {\"day\": 582.0, \"data\": \"y_test\", \"value\": 5464.0}, {\"day\": 52.0, \"data\": \"y_test\", \"value\": 1450.0}, {\"day\": 293.0, \"data\": \"y_test\", \"value\": 4304.0}, {\"day\": 389.0, \"data\": \"y_test\", \"value\": 4270.0}, {\"day\": 443.0, \"data\": \"y_test\", \"value\": 6153.0}, {\"day\": 470.0, \"data\": \"y_test\", \"value\": 7132.0}, {\"day\": 261.0, \"data\": \"y_test\", \"value\": 4539.0}, {\"day\": 279.0, \"data\": \"y_test\", \"value\": 4985.0}, {\"day\": 252.0, \"data\": \"y_test\", \"value\": 5345.0}, {\"day\": 483.0, \"data\": \"y_test\", \"value\": 4220.0}, {\"day\": 118.0, \"data\": \"y_test\", \"value\": 4595.0}, {\"day\": 566.0, \"data\": \"y_test\", \"value\": 5870.0}, {\"day\": 688.0, \"data\": \"y_test\", \"value\": 5499.0}, {\"day\": 266.0, \"data\": \"y_test\", \"value\": 5423.0}, {\"day\": 504.0, \"data\": \"y_test\", \"value\": 8294.0}, {\"day\": 239.0, \"data\": \"y_test\", \"value\": 4334.0}, {\"day\": 97.0, \"data\": \"y_test\", \"value\": 1471.0}, {\"day\": 503.0, \"data\": \"y_test\", \"value\": 7639.0}, {\"day\": 642.0, \"data\": \"y_test\", \"value\": 7328.0}, {\"day\": 498.0, \"data\": \"y_test\", \"value\": 6118.0}, {\"day\": 303.0, \"data\": \"y_test\", \"value\": 3669.0}, {\"day\": 570.0, \"data\": \"y_test\", \"value\": 7592.0}, {\"day\": 250.0, \"data\": \"y_test\", \"value\": 1842.0}, {\"day\": 17.0, \"data\": \"y_test\", \"value\": 683.0}, {\"day\": 595.0, \"data\": \"y_test\", \"value\": 7865.0}, {\"day\": 240.0, \"data\": \"y_test\", \"value\": 4634.0}, {\"day\": 547.0, \"data\": \"y_test\", \"value\": 5531.0}, {\"day\": 325.0, \"data\": \"y_test\", \"value\": 1607.0}, {\"day\": 285.0, \"data\": \"y_test\", \"value\": 2913.0}, {\"day\": 672.0, \"data\": \"y_test\", \"value\": 5138.0}, {\"day\": 652.0, \"data\": \"y_test\", \"value\": 6639.0}, {\"day\": 701.0, \"data\": \"y_test\", \"value\": 4649.0}, {\"day\": 493.0, \"data\": \"y_test\", \"value\": 5728.0}, {\"day\": 45.0, \"data\": \"y_test\", \"value\": 1815.0}, {\"day\": 548.0, \"data\": \"y_test\", \"value\": 6227.0}, {\"day\": 62.0, \"data\": \"y_test\", \"value\": 1944.0}, {\"day\": 530.0, \"data\": \"y_test\", \"value\": 7363.0}, {\"day\": 313.0, \"data\": \"y_test\", \"value\": 2933.0}, {\"day\": 588.0, \"data\": \"y_test\", \"value\": 6299.0}, {\"day\": 140.0, \"data\": \"y_test\", \"value\": 5805.0}, {\"day\": 294.0, \"data\": \"y_test\", \"value\": 4308.0}, {\"day\": 520.0, \"data\": \"y_test\", \"value\": 6998.0}, {\"day\": 127.0, \"data\": \"y_test\", \"value\": 4333.0}, {\"day\": 204.0, \"data\": \"y_test\", \"value\": 3606.0}, {\"day\": 352.0, \"data\": \"y_test\", \"value\": 3403.0}, {\"day\": 358.0, \"data\": \"y_test\", \"value\": 754.0}, {\"day\": 144.0, \"data\": \"y_test\", \"value\": 4978.0}, {\"day\": 310.0, \"data\": \"y_test\", \"value\": 4035.0}, {\"day\": 21.0, \"data\": \"y_test\", \"value\": 981.0}, {\"day\": 650.0, \"data\": \"y_test\", \"value\": 7282.0}, {\"day\": 424.0, \"data\": \"y_test\", \"value\": 1834.0}, {\"day\": 35.0, \"data\": \"y_test\", \"value\": 1005.0}, {\"day\": 452.0, \"data\": \"y_test\", \"value\": 5698.0}, {\"day\": 337.0, \"data\": \"y_test\", \"value\": 3485.0}, {\"day\": 509.0, \"data\": \"y_test\", \"value\": 6770.0}, {\"day\": 77.0, \"data\": \"y_test\", \"value\": 3117.0}, {\"day\": 451.0, \"data\": \"y_test\", \"value\": 5102.0}, {\"day\": 231.0, \"data\": \"y_test\", \"value\": 5191.0}, {\"day\": 331.0, \"data\": \"y_test\", \"value\": 3867.0}, {\"day\": 109.0, \"data\": \"y_test\", \"value\": 3944.0}, {\"day\": 412.0, \"data\": \"y_test\", \"value\": 4154.0}, {\"day\": 101.0, \"data\": \"y_test\", \"value\": 2034.0}, {\"day\": 489.0, \"data\": \"y_test\", \"value\": 6296.0}, {\"day\": 641.0, \"data\": \"y_test\", \"value\": 7572.0}, {\"day\": 230.0, \"data\": \"y_test\", \"value\": 4153.0}, {\"day\": 708.0, \"data\": \"y_test\", \"value\": 3228.0}, {\"day\": 278.0, \"data\": \"y_test\", \"value\": 4765.0}, {\"day\": 468.0, \"data\": \"y_test\", \"value\": 6398.0}, {\"day\": 317.0, \"data\": \"y_test\", \"value\": 4486.0}, {\"day\": 344.0, \"data\": \"y_test\", \"value\": 2743.0}, {\"day\": 720.0, \"data\": \"y_test\", \"value\": 3623.0}, {\"day\": 258.0, \"data\": \"y_test\", \"value\": 4760.0}, {\"day\": 505.0, \"data\": \"y_test\", \"value\": 7129.0}, {\"day\": 165.0, \"data\": \"y_test\", \"value\": 5180.0}, {\"day\": 188.0, \"data\": \"y_test\", \"value\": 4040.0}, {\"day\": 316.0, \"data\": \"y_test\", \"value\": 3717.0}, {\"day\": 34.0, \"data\": \"y_test\", \"value\": 1708.0}, {\"day\": 532.0, \"data\": \"y_test\", \"value\": 7702.0}, {\"day\": 593.0, \"data\": \"y_test\", \"value\": 7605.0}, {\"day\": 727.0, \"data\": \"y_test\", \"value\": 3095.0}, {\"day\": 334.0, \"data\": \"y_test\", \"value\": 3727.0}, {\"day\": 439.0, \"data\": \"y_test\", \"value\": 6192.0}, {\"day\": 645.0, \"data\": \"y_test\", \"value\": 3510.0}, {\"day\": 155.0, \"data\": \"y_test\", \"value\": 4906.0}, {\"day\": 391.0, \"data\": \"y_test\", \"value\": 3456.0}, {\"day\": 571.0, \"data\": \"y_test\", \"value\": 8173.0}, {\"day\": 306.0, \"data\": \"y_test\", \"value\": 3974.0}, {\"day\": 200.0, \"data\": \"y_test\", \"value\": 4332.0}, {\"day\": 235.0, \"data\": \"y_test\", \"value\": 5130.0}, {\"day\": 196.0, \"data\": \"y_pred\", \"value\": 4363.302712644344}, {\"day\": 187.0, \"data\": \"y_pred\", \"value\": 4680.3548722383675}, {\"day\": 14.0, \"data\": \"y_pred\", \"value\": 1457.5040048375677}, {\"day\": 31.0, \"data\": \"y_pred\", \"value\": 1187.9642759299845}, {\"day\": 390.0, \"data\": \"y_pred\", \"value\": 3667.989352595884}, {\"day\": 319.0, \"data\": \"y_pred\", \"value\": 1822.684139639603}, {\"day\": 299.0, \"data\": \"y_pred\", \"value\": 3817.5451680018696}, {\"day\": 702.0, \"data\": \"y_pred\", \"value\": 5835.386702592262}, {\"day\": 462.0, \"data\": \"y_pred\", \"value\": 5770.047314040788}, {\"day\": 27.0, \"data\": \"y_pred\", \"value\": 952.5311606596265}, {\"day\": 40.0, \"data\": \"y_pred\", \"value\": 1341.9328095695496}, {\"day\": 360.0, \"data\": \"y_pred\", \"value\": 1475.6974976913057}, {\"day\": 55.0, \"data\": \"y_pred\", \"value\": 1258.7372453683856}, {\"day\": 157.0, \"data\": \"y_pred\", \"value\": 4798.380931836016}, {\"day\": 193.0, \"data\": \"y_pred\", \"value\": 4741.119684218104}, {\"day\": 170.0, \"data\": \"y_pred\", \"value\": 4045.4171100390076}, {\"day\": 618.0, \"data\": \"y_pred\", \"value\": 6743.216549833389}, {\"day\": 679.0, \"data\": \"y_pred\", \"value\": 5795.924514566764}, {\"day\": 382.0, \"data\": \"y_pred\", \"value\": 3246.7682874973966}, {\"day\": 79.0, \"data\": \"y_pred\", \"value\": 2985.877808256046}, {\"day\": 607.0, \"data\": \"y_pred\", \"value\": 7019.819140654972}, {\"day\": 728.0, \"data\": \"y_pred\", \"value\": 3220.055738156575}, {\"day\": 674.0, \"data\": \"y_pred\", \"value\": 5170.819512281791}, {\"day\": 162.0, \"data\": \"y_pred\", \"value\": 4561.03891751591}, {\"day\": 386.0, \"data\": \"y_pred\", \"value\": 2401.1620659857062}, {\"day\": 596.0, \"data\": \"y_pred\", \"value\": 6207.039108723828}, {\"day\": 202.0, \"data\": \"y_pred\", \"value\": 5393.145911371182}, {\"day\": 242.0, \"data\": \"y_pred\", \"value\": 4873.545179143668}, {\"day\": 631.0, \"data\": \"y_pred\", \"value\": 6901.315331028967}, {\"day\": 518.0, \"data\": \"y_pred\", \"value\": 6230.387469593403}, {\"day\": 8.0, \"data\": \"y_pred\", \"value\": 761.7376112892794}, {\"day\": 243.0, \"data\": \"y_pred\", \"value\": 5286.373231289765}, {\"day\": 647.0, \"data\": \"y_pred\", \"value\": 5709.249754021709}, {\"day\": 175.0, \"data\": \"y_pred\", \"value\": 4860.055527795895}, {\"day\": 356.0, \"data\": \"y_pred\", \"value\": 1858.4536361413893}, {\"day\": 392.0, \"data\": \"y_pred\", \"value\": 3787.5490028545946}, {\"day\": 572.0, \"data\": \"y_pred\", \"value\": 6445.400518302892}, {\"day\": 553.0, \"data\": \"y_pred\", \"value\": 7344.162769038459}, {\"day\": 75.0, \"data\": \"y_pred\", \"value\": 2618.3386163146515}, {\"day\": 332.0, \"data\": \"y_pred\", \"value\": 3046.1025587944946}, {\"day\": 476.0, \"data\": \"y_pred\", \"value\": 5657.695015809728}, {\"day\": 1.0, \"data\": \"y_pred\", \"value\": 1456.0523681230852}, {\"day\": 271.0, \"data\": \"y_pred\", \"value\": 5157.57457682693}, {\"day\": 419.0, \"data\": \"y_pred\", \"value\": 3650.2858463313764}, {\"day\": 578.0, \"data\": \"y_pred\", \"value\": 6747.112306669298}, {\"day\": 632.0, \"data\": \"y_pred\", \"value\": 7024.950546514002}, {\"day\": 366.0, \"data\": \"y_pred\", \"value\": 3464.293834399362}, {\"day\": 247.0, \"data\": \"y_pred\", \"value\": 4628.981991721398}, {\"day\": 399.0, \"data\": \"y_pred\", \"value\": 3257.1571771479803}, {\"day\": 85.0, \"data\": \"y_pred\", \"value\": 2873.91809944388}, {\"day\": 513.0, \"data\": \"y_pred\", \"value\": 6855.800505629356}, {\"day\": 569.0, \"data\": \"y_pred\", \"value\": 6537.183839704497}, {\"day\": 485.0, \"data\": \"y_pred\", \"value\": 5411.521170961287}, {\"day\": 529.0, \"data\": \"y_pred\", \"value\": 6026.174982162496}, {\"day\": 215.0, \"data\": \"y_pred\", \"value\": 4249.6462822706635}, {\"day\": 330.0, \"data\": \"y_pred\", \"value\": 3694.710926857399}, {\"day\": 333.0, \"data\": \"y_pred\", \"value\": 3009.973678281185}, {\"day\": 655.0, \"data\": \"y_pred\", \"value\": 6410.136317857534}, {\"day\": 576.0, \"data\": \"y_pred\", \"value\": 6490.150845213053}, {\"day\": 369.0, \"data\": \"y_pred\", \"value\": 3823.678113840175}, {\"day\": 475.0, \"data\": \"y_pred\", \"value\": 5846.337727500992}, {\"day\": 413.0, \"data\": \"y_pred\", \"value\": 4118.259889548142}, {\"day\": 626.0, \"data\": \"y_pred\", \"value\": 5718.661333317117}, {\"day\": 623.0, \"data\": \"y_pred\", \"value\": 6890.831776483767}, {\"day\": 523.0, \"data\": \"y_pred\", \"value\": 6358.7361792143565}, {\"day\": 249.0, \"data\": \"y_pred\", \"value\": 2995.3150139961726}, {\"day\": 272.0, \"data\": \"y_pred\", \"value\": 4922.432097949355}, {\"day\": 432.0, \"data\": \"y_pred\", \"value\": 4415.270729763921}, {\"day\": 511.0, \"data\": \"y_pred\", \"value\": 6645.983423692676}, {\"day\": 669.0, \"data\": \"y_pred\", \"value\": 5527.878790060097}, {\"day\": 495.0, \"data\": \"y_pred\", \"value\": 5766.243957090706}, {\"day\": 557.0, \"data\": \"y_pred\", \"value\": 6463.13531095325}, {\"day\": 449.0, \"data\": \"y_pred\", \"value\": 4902.764186627019}, {\"day\": 575.0, \"data\": \"y_pred\", \"value\": 6461.515317845333}, {\"day\": 103.0, \"data\": \"y_pred\", \"value\": 4047.314069023004}, {\"day\": 703.0, \"data\": \"y_pred\", \"value\": 5719.538189337206}, {\"day\": 437.0, \"data\": \"y_pred\", \"value\": 5088.066236122812}, {\"day\": 590.0, \"data\": \"y_pred\", \"value\": 6979.912479991618}, {\"day\": 351.0, \"data\": \"y_pred\", \"value\": 2982.933455939573}, {\"day\": 729.0, \"data\": \"y_pred\", \"value\": 3270.580682134969}, {\"day\": 210.0, \"data\": \"y_pred\", \"value\": 5189.933998294378}, {\"day\": 673.0, \"data\": \"y_pred\", \"value\": 5324.059946921905}, {\"day\": 181.0, \"data\": \"y_pred\", \"value\": 5118.969231491742}, {\"day\": 50.0, \"data\": \"y_pred\", \"value\": 2029.455827871433}, {\"day\": 267.0, \"data\": \"y_pred\", \"value\": 5058.280027272507}, {\"day\": 531.0, \"data\": \"y_pred\", \"value\": 6430.420853292601}, {\"day\": 222.0, \"data\": \"y_pred\", \"value\": 5175.985186538186}, {\"day\": 487.0, \"data\": \"y_pred\", \"value\": 6147.310685993298}, {\"day\": 567.0, \"data\": \"y_pred\", \"value\": 3670.120096885921}, {\"day\": 142.0, \"data\": \"y_pred\", \"value\": 3968.949862721825}, {\"day\": 10.0, \"data\": \"y_pred\", \"value\": 969.3690404807021}, {\"day\": 68.0, \"data\": \"y_pred\", \"value\": 1615.621958347223}, {\"day\": 573.0, \"data\": \"y_pred\", \"value\": 6846.953598298699}, {\"day\": 580.0, \"data\": \"y_pred\", \"value\": 6534.962465044615}, {\"day\": 499.0, \"data\": \"y_pred\", \"value\": 5702.863276452236}, {\"day\": 724.0, \"data\": \"y_pred\", \"value\": 3312.70752143368}, {\"day\": 301.0, \"data\": \"y_pred\", \"value\": 817.5344743812275}, {\"day\": 579.0, \"data\": \"y_pred\", \"value\": 6979.558568125485}, {\"day\": 214.0, \"data\": \"y_pred\", \"value\": 4684.553849575845}, {\"day\": 404.0, \"data\": \"y_pred\", \"value\": 3669.888011904841}, {\"day\": 263.0, \"data\": \"y_pred\", \"value\": 4431.057465748484}, {\"day\": 482.0, \"data\": \"y_pred\", \"value\": 5422.194824489107}, {\"day\": 709.0, \"data\": \"y_pred\", \"value\": 4901.4204492296285}, {\"day\": 648.0, \"data\": \"y_pred\", \"value\": 6523.347121051132}, {\"day\": 346.0, \"data\": \"y_pred\", \"value\": 3281.88465971269}, {\"day\": 211.0, \"data\": \"y_pred\", \"value\": 5184.082875621746}, {\"day\": 662.0, \"data\": \"y_pred\", \"value\": 7174.485132635075}, {\"day\": 636.0, \"data\": \"y_pred\", \"value\": 6827.217332357966}, {\"day\": 456.0, \"data\": \"y_pred\", \"value\": 5057.472059144299}, {\"day\": 354.0, \"data\": \"y_pred\", \"value\": 1705.0541379043739}, {\"day\": 113.0, \"data\": \"y_pred\", \"value\": 3595.833005649417}, {\"day\": 236.0, \"data\": \"y_pred\", \"value\": 4073.8147199634705}, {\"day\": 251.0, \"data\": \"y_pred\", \"value\": 4579.602144086398}, {\"day\": 49.0, \"data\": \"y_pred\", \"value\": 2082.9010649234415}, {\"day\": 406.0, \"data\": \"y_pred\", \"value\": 1217.0829094482087}, {\"day\": 156.0, \"data\": \"y_pred\", \"value\": 4846.198899854777}, {\"day\": 255.0, \"data\": \"y_pred\", \"value\": 5140.970039545112}, {\"day\": 122.0, \"data\": \"y_pred\", \"value\": 3769.0220510148456}, {\"day\": 663.0, \"data\": \"y_pred\", \"value\": 6309.995481526062}, {\"day\": 457.0, \"data\": \"y_pred\", \"value\": 5247.91322652202}, {\"day\": 37.0, \"data\": \"y_pred\", \"value\": 2001.2258663287494}, {\"day\": 172.0, \"data\": \"y_pred\", \"value\": 4802.297741893546}, {\"day\": 48.0, \"data\": \"y_pred\", \"value\": 2835.9877677127874}, {\"day\": 365.0, \"data\": \"y_pred\", \"value\": 3850.346504095695}, {\"day\": 318.0, \"data\": \"y_pred\", \"value\": 3763.168332727835}, {\"day\": 268.0, \"data\": \"y_pred\", \"value\": 4947.935925194005}, {\"day\": 18.0, \"data\": \"y_pred\", \"value\": 1185.2265508831651}, {\"day\": 521.0, \"data\": \"y_pred\", \"value\": 5579.6784209773805}, {\"day\": 415.0, \"data\": \"y_pred\", \"value\": 3720.433016474145}, {\"day\": 76.0, \"data\": \"y_pred\", \"value\": 3255.3545847527735}, {\"day\": 64.0, \"data\": \"y_pred\", \"value\": 1201.8846284036654}, {\"day\": 582.0, \"data\": \"y_pred\", \"value\": 6605.283417230826}, {\"day\": 52.0, \"data\": \"y_pred\", \"value\": 1368.8792893281666}, {\"day\": 293.0, \"data\": \"y_pred\", \"value\": 4227.171307762385}, {\"day\": 389.0, \"data\": \"y_pred\", \"value\": 3659.583994939946}, {\"day\": 443.0, \"data\": \"y_pred\", \"value\": 5045.682216391661}, {\"day\": 470.0, \"data\": \"y_pred\", \"value\": 6274.985434707754}, {\"day\": 261.0, \"data\": \"y_pred\", \"value\": 4420.103802855537}, {\"day\": 279.0, \"data\": \"y_pred\", \"value\": 5020.2449184227}, {\"day\": 252.0, \"data\": \"y_pred\", \"value\": 5077.632328780847}, {\"day\": 483.0, \"data\": \"y_pred\", \"value\": 5261.873073627426}, {\"day\": 118.0, \"data\": \"y_pred\", \"value\": 3992.115001352756}, {\"day\": 566.0, \"data\": \"y_pred\", \"value\": 5450.616568662577}, {\"day\": 688.0, \"data\": \"y_pred\", \"value\": 4978.093280352204}, {\"day\": 266.0, \"data\": \"y_pred\", \"value\": 4841.311127865842}, {\"day\": 504.0, \"data\": \"y_pred\", \"value\": 7012.967475394241}, {\"day\": 239.0, \"data\": \"y_pred\", \"value\": 4503.553273457984}, {\"day\": 97.0, \"data\": \"y_pred\", \"value\": 2324.582672447667}, {\"day\": 503.0, \"data\": \"y_pred\", \"value\": 6605.515680260132}, {\"day\": 642.0, \"data\": \"y_pred\", \"value\": 6924.111673289653}, {\"day\": 498.0, \"data\": \"y_pred\", \"value\": 6471.795370708645}, {\"day\": 303.0, \"data\": \"y_pred\", \"value\": 3970.1810095859255}, {\"day\": 570.0, \"data\": \"y_pred\", \"value\": 6437.960885133183}, {\"day\": 250.0, \"data\": \"y_pred\", \"value\": 2814.5897224839036}, {\"day\": 17.0, \"data\": \"y_pred\", \"value\": 830.5059274389841}, {\"day\": 595.0, \"data\": \"y_pred\", \"value\": 6564.270079212089}, {\"day\": 240.0, \"data\": \"y_pred\", \"value\": 4644.549962074221}, {\"day\": 547.0, \"data\": \"y_pred\", \"value\": 7062.937232613198}, {\"day\": 325.0, \"data\": \"y_pred\", \"value\": 1647.2646478986849}, {\"day\": 285.0, \"data\": \"y_pred\", \"value\": 4376.6306611228765}, {\"day\": 672.0, \"data\": \"y_pred\", \"value\": 4894.906962217331}, {\"day\": 652.0, \"data\": \"y_pred\", \"value\": 6274.302039823266}, {\"day\": 701.0, \"data\": \"y_pred\", \"value\": 4858.346882313318}, {\"day\": 493.0, \"data\": \"y_pred\", \"value\": 5663.460525681305}, {\"day\": 45.0, \"data\": \"y_pred\", \"value\": 1886.1051871052578}, {\"day\": 548.0, \"data\": \"y_pred\", \"value\": 6923.6962430097665}, {\"day\": 62.0, \"data\": \"y_pred\", \"value\": 1622.2628398838083}, {\"day\": 530.0, \"data\": \"y_pred\", \"value\": 6296.933290442059}, {\"day\": 313.0, \"data\": \"y_pred\", \"value\": 2910.944134061553}, {\"day\": 588.0, \"data\": \"y_pred\", \"value\": 6061.462932908792}, {\"day\": 140.0, \"data\": \"y_pred\", \"value\": 4754.759653090449}, {\"day\": 294.0, \"data\": \"y_pred\", \"value\": 4500.349009490766}, {\"day\": 520.0, \"data\": \"y_pred\", \"value\": 6106.001458234617}, {\"day\": 127.0, \"data\": \"y_pred\", \"value\": 4558.595961420051}, {\"day\": 204.0, \"data\": \"y_pred\", \"value\": 5217.988116531365}, {\"day\": 352.0, \"data\": \"y_pred\", \"value\": 3067.3569404285786}, {\"day\": 358.0, \"data\": \"y_pred\", \"value\": 1755.8245668923591}, {\"day\": 144.0, \"data\": \"y_pred\", \"value\": 4800.6971461770245}, {\"day\": 310.0, \"data\": \"y_pred\", \"value\": 3752.580279036275}, {\"day\": 21.0, \"data\": \"y_pred\", \"value\": 1050.3397370192097}, {\"day\": 650.0, \"data\": \"y_pred\", \"value\": 6181.08246986553}, {\"day\": 424.0, \"data\": \"y_pred\", \"value\": 3418.92994026664}, {\"day\": 35.0, \"data\": \"y_pred\", \"value\": 867.6326442729592}, {\"day\": 452.0, \"data\": \"y_pred\", \"value\": 5824.018068448442}, {\"day\": 337.0, \"data\": \"y_pred\", \"value\": 3374.770436358135}, {\"day\": 509.0, \"data\": \"y_pred\", \"value\": 6574.229228689697}, {\"day\": 77.0, \"data\": \"y_pred\", \"value\": 2780.468891157405}, {\"day\": 451.0, \"data\": \"y_pred\", \"value\": 5691.526979575096}, {\"day\": 231.0, \"data\": \"y_pred\", \"value\": 4876.747568369128}, {\"day\": 331.0, \"data\": \"y_pred\", \"value\": 4014.5871362185576}, {\"day\": 109.0, \"data\": \"y_pred\", \"value\": 4111.398013074833}, {\"day\": 412.0, \"data\": \"y_pred\", \"value\": 3897.8498899094707}, {\"day\": 101.0, \"data\": \"y_pred\", \"value\": 3121.599041496158}, {\"day\": 489.0, \"data\": \"y_pred\", \"value\": 6457.934096752523}, {\"day\": 641.0, \"data\": \"y_pred\", \"value\": 6949.7792640302105}, {\"day\": 230.0, \"data\": \"y_pred\", \"value\": 4350.33988238032}, {\"day\": 708.0, \"data\": \"y_pred\", \"value\": 4793.06830360422}, {\"day\": 278.0, \"data\": \"y_pred\", \"value\": 4706.045392948388}, {\"day\": 468.0, \"data\": \"y_pred\", \"value\": 5896.371951052534}, {\"day\": 317.0, \"data\": \"y_pred\", \"value\": 3916.233812360798}, {\"day\": 344.0, \"data\": \"y_pred\", \"value\": 3386.4120417807717}, {\"day\": 720.0, \"data\": \"y_pred\", \"value\": 3129.981571022603}, {\"day\": 258.0, \"data\": \"y_pred\", \"value\": 4182.874831660785}, {\"day\": 505.0, \"data\": \"y_pred\", \"value\": 6487.842710554773}, {\"day\": 165.0, \"data\": \"y_pred\", \"value\": 4695.759154376861}, {\"day\": 188.0, \"data\": \"y_pred\", \"value\": 3868.666310175461}, {\"day\": 316.0, \"data\": \"y_pred\", \"value\": 3773.4691644172844}, {\"day\": 34.0, \"data\": \"y_pred\", \"value\": 1422.9331344391321}, {\"day\": 532.0, \"data\": \"y_pred\", \"value\": 6564.452457211121}, {\"day\": 593.0, \"data\": \"y_pred\", \"value\": 6991.267200108283}, {\"day\": 727.0, \"data\": \"y_pred\", \"value\": 3404.9007463098897}, {\"day\": 334.0, \"data\": \"y_pred\", \"value\": 3265.1359874251607}, {\"day\": 439.0, \"data\": \"y_pred\", \"value\": 5366.017293509364}, {\"day\": 645.0, \"data\": \"y_pred\", \"value\": 5808.834371400495}, {\"day\": 155.0, \"data\": \"y_pred\", \"value\": 4316.649970566851}, {\"day\": 391.0, \"data\": \"y_pred\", \"value\": 3287.2121866738566}, {\"day\": 571.0, \"data\": \"y_pred\", \"value\": 6750.1654039979185}, {\"day\": 306.0, \"data\": \"y_pred\", \"value\": 3663.420077999189}, {\"day\": 200.0, \"data\": \"y_pred\", \"value\": 4856.330338997863}, {\"day\": 235.0, \"data\": \"y_pred\", \"value\": 4446.020218308816}]}}, {\"mode\": \"vega-lite\"});\n",
       "</script>"
      ],
      "text/plain": [
       "alt.Chart(...)"
      ]
     },
     "execution_count": 279,
     "metadata": {},
     "output_type": "execute_result"
    }
   ],
   "source": [
    "scales = alt.selection_interval(bind='scales')\n",
    "alt.Chart(lr_pred_df).mark_line(point=True).encode(\n",
    "    x = 'day:Q',\n",
    "    y = 'value:Q',\n",
    "    color='data:N',\n",
    "    tooltip=[ 'data:N', 'value:N']\n",
    ").add_selection(\n",
    "    scales\n",
    ").properties(width=800)"
   ]
  },
  {
   "cell_type": "code",
   "execution_count": null,
   "metadata": {},
   "outputs": [],
   "source": []
  },
  {
   "cell_type": "code",
   "execution_count": null,
   "metadata": {},
   "outputs": [],
   "source": []
  }
 ],
 "metadata": {
  "kernelspec": {
   "display_name": "Python 3",
   "language": "python",
   "name": "python3"
  },
  "language_info": {
   "codemirror_mode": {
    "name": "ipython",
    "version": 3
   },
   "file_extension": ".py",
   "mimetype": "text/x-python",
   "name": "python",
   "nbconvert_exporter": "python",
   "pygments_lexer": "ipython3",
   "version": "3.8.3"
  }
 },
 "nbformat": 4,
 "nbformat_minor": 4
}
